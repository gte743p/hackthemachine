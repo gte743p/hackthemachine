{
 "cells": [
  {
   "cell_type": "markdown",
   "metadata": {},
   "source": [
    "# HACKtheMACHINE\n",
    "\n",
    "-------\n",
    "\n",
    "### TRACK 2 - Data Science & the Seven Seas: Collision Avoidance - https://www.hackthemachine.ai/track2/\n",
    "\n",
    "-------\n",
    "\n",
    "__*Challenge 1: Identifying COLREGS Interactions*__\n",
    "\n",
    "- Out of the billions of data points in the AIS dataset can you find the most efficient algorithm to identify potential COLREGS interactions?\n",
    "\n",
    "__*Challenge 2: Contextualizing COLREGS Interactions*__\n",
    "\n",
    "- COLREGS are complicated and multifactorial. Can you apply contextual awareness to encounters between ships in order to help the Navy develop models for what constitutes “normal” behavior at sea?\n",
    "\n",
    "-------\n",
    "\n",
    "This analysis utilizes Automated Information Systems (AIS) data from the month of July in 2017 for Zone 11, which is off the Pacific Ocean near Southern California and the Baja Peninsula.  The entire month includes almost 13 million records representing the location, course/heading, speed, and some additional attributes of 2,836 unique vessels.  A subset of the data for the day of July 1, 2017, which containes 407,845 records, is used below.\n",
    "\n",
    "-------"
   ]
  },
  {
   "cell_type": "markdown",
   "metadata": {},
   "source": [
    "## General Approach\n",
    "\n",
    "A multi-stage approach is used for identification and categorization of potential ship collisions:\n",
    "1. Identify pairs of ships that are near in time and space\n",
    "2. Identify potential collisions based on the speed and course (direction) of nearby pairs of ships\n",
    "3. Categorize potential collisions by type of interaction:\n",
    "    -  vessels approaching head-on\n",
    "    -  one vessel overtaking another\n",
    "    -  one vessel having the right-of-way in a crossing situation\n",
    "    \n",
    "-------\n",
    "\n",
    "In __Step 1__, data is normalized by LON/LAT and time so that a unitless distance of 1 represents a user-defined distance threshold that separates \"near\" from \"far\" points (this analysis uses 4 nautical miles and 120 seconds).  A k-d tree is then created from normalized LON/LAT and time, which is queried to efficiently identify pairs of vessels that are near one another.\n",
    "\n",
    "__Step 2__ identifies ships that will collide if no change in speed or direction occurs by determining whether there is a future time t for which the LON/LAT of the two ships will be identical.  In this step, the original Pandas DataFrame is converted to a Numpy matrix to efficiently access the position, speed, and direction of the two nearby ships, and a vectorized calculation is performed to identify whether there is a future time t for which the two ships share the same LON/LAT position.\n",
    "\n",
    "__Step 3__ categorizes interaction type based on the difference in angle of approach for the two vessels.\n",
    "\n",
    "-------"
   ]
  },
  {
   "cell_type": "code",
   "execution_count": 1,
   "metadata": {
    "collapsed": false
   },
   "outputs": [],
   "source": [
    "# import packages\n",
    "import os, io, glob, requests, zipfile\n",
    "import pandas as pd\n",
    "import numpy as np\n",
    "import datetime as dt\n",
    "import geopandas\n",
    "import pickle\n",
    "import math\n",
    "import random\n",
    "from shapely.geometry import Point\n",
    "import matplotlib.pyplot as plt"
   ]
  },
  {
   "cell_type": "code",
   "execution_count": 2,
   "metadata": {
    "collapsed": true
   },
   "outputs": [],
   "source": [
    "%matplotlib inline"
   ]
  },
  {
   "cell_type": "code",
   "execution_count": 3,
   "metadata": {
    "collapsed": false
   },
   "outputs": [
    {
     "data": {
      "text/plain": [
       "datetime.datetime(2018, 9, 27, 15, 29, 6, 432467)"
      ]
     },
     "execution_count": 3,
     "metadata": {},
     "output_type": "execute_result"
    }
   ],
   "source": [
    "start_analysis_time = dt.datetime.now()\n",
    "start_analysis_time"
   ]
  },
  {
   "cell_type": "markdown",
   "metadata": {},
   "source": [
    "### download, unzip, and read data"
   ]
  },
  {
   "cell_type": "code",
   "execution_count": 4,
   "metadata": {
    "collapsed": false
   },
   "outputs": [],
   "source": [
    "def download_ais_data(year, month, zone, data_dir='./data'):\n",
    "    '''function to download ais data from https://marinecadastre.gov/ais/ and return corresponding pandas dataframe'''\n",
    "    # import packages\n",
    "    import os, io, requests, zipfile\n",
    "    import pandas as pd\n",
    "    \n",
    "    # create data directory\n",
    "    if not os.path.exists(data_dir):\n",
    "        os.makedirs(data_dir)\n",
    "    \n",
    "    # create path to csv file\n",
    "    csv_file = 'AIS_{}_{}_Zone{}.csv'.format(year, str(month).zfill(2), str(zone).zfill(2))\n",
    "    csv_path = os.path.join(data_dir, 'AIS_ASCII_by_UTM_Month', str(year), csv_file)\n",
    "        \n",
    "    try:\n",
    "        # read csv if already downloaded\n",
    "        data = pd.read_csv(csv_path)\n",
    "    except:\n",
    "        # create zip file url\n",
    "        zip_file_url = ('https://coast.noaa.gov/htdata/CMSP/AISDataHandler/'\n",
    "                        '{}/AIS_{}_{}_Zone{}.zip'.format(year, year, \n",
    "                                                         str(month).zfill(2), \n",
    "                                                         str(zone).zfill(2)))\n",
    "        # download and extract data\n",
    "        r = requests.get(zip_file_url, stream=True)\n",
    "        z = zipfile.ZipFile(io.BytesIO(r.content))\n",
    "        z.extractall(data_dir)\n",
    "\n",
    "        # load csv as dataframe\n",
    "        data = pd.read_csv(csv_path)\n",
    "\n",
    "    return data"
   ]
  },
  {
   "cell_type": "code",
   "execution_count": 5,
   "metadata": {
    "collapsed": false
   },
   "outputs": [],
   "source": [
    "# download data for Zone 11 in July 2017\n",
    "data1month = download_ais_data(year=2017, month=7, zone=11)"
   ]
  },
  {
   "cell_type": "markdown",
   "metadata": {},
   "source": [
    "### Some simple data exploration"
   ]
  },
  {
   "cell_type": "code",
   "execution_count": 6,
   "metadata": {
    "collapsed": false
   },
   "outputs": [
    {
     "data": {
      "text/plain": [
       "(12776834, 16)"
      ]
     },
     "execution_count": 6,
     "metadata": {},
     "output_type": "execute_result"
    }
   ],
   "source": [
    "data1month.shape"
   ]
  },
  {
   "cell_type": "code",
   "execution_count": 7,
   "metadata": {
    "collapsed": false
   },
   "outputs": [
    {
     "name": "stdout",
     "output_type": "stream",
     "text": [
      "<class 'pandas.core.frame.DataFrame'>\n",
      "RangeIndex: 12776834 entries, 0 to 12776833\n",
      "Data columns (total 16 columns):\n",
      "MMSI            int64\n",
      "BaseDateTime    object\n",
      "LAT             float64\n",
      "LON             float64\n",
      "SOG             float64\n",
      "COG             float64\n",
      "Heading         float64\n",
      "VesselName      object\n",
      "IMO             object\n",
      "CallSign        object\n",
      "VesselType      float64\n",
      "Status          object\n",
      "Length          float64\n",
      "Width           float64\n",
      "Draft           float64\n",
      "Cargo           float64\n",
      "dtypes: float64(10), int64(1), object(5)\n",
      "memory usage: 1.5+ GB\n"
     ]
    }
   ],
   "source": [
    "data1month.info()"
   ]
  },
  {
   "cell_type": "code",
   "execution_count": 8,
   "metadata": {
    "collapsed": false,
    "scrolled": true
   },
   "outputs": [
    {
     "data": {
      "text/html": [
       "<div>\n",
       "<table border=\"1\" class=\"dataframe\">\n",
       "  <thead>\n",
       "    <tr style=\"text-align: right;\">\n",
       "      <th></th>\n",
       "      <th>MMSI</th>\n",
       "      <th>BaseDateTime</th>\n",
       "      <th>LAT</th>\n",
       "      <th>LON</th>\n",
       "      <th>SOG</th>\n",
       "      <th>COG</th>\n",
       "      <th>Heading</th>\n",
       "      <th>VesselName</th>\n",
       "      <th>IMO</th>\n",
       "      <th>CallSign</th>\n",
       "      <th>VesselType</th>\n",
       "      <th>Status</th>\n",
       "      <th>Length</th>\n",
       "      <th>Width</th>\n",
       "      <th>Draft</th>\n",
       "      <th>Cargo</th>\n",
       "    </tr>\n",
       "  </thead>\n",
       "  <tbody>\n",
       "    <tr>\n",
       "      <th>0</th>\n",
       "      <td>367302530</td>\n",
       "      <td>2017-07-01T00:00:05</td>\n",
       "      <td>33.73642</td>\n",
       "      <td>-118.26988</td>\n",
       "      <td>0.0</td>\n",
       "      <td>-49.6</td>\n",
       "      <td>511.0</td>\n",
       "      <td>NaN</td>\n",
       "      <td>NaN</td>\n",
       "      <td>NaN</td>\n",
       "      <td>NaN</td>\n",
       "      <td>under way using engine</td>\n",
       "      <td>NaN</td>\n",
       "      <td>NaN</td>\n",
       "      <td>NaN</td>\n",
       "      <td>NaN</td>\n",
       "    </tr>\n",
       "    <tr>\n",
       "      <th>1</th>\n",
       "      <td>366970120</td>\n",
       "      <td>2017-07-01T00:00:05</td>\n",
       "      <td>32.69319</td>\n",
       "      <td>-117.15330</td>\n",
       "      <td>10.6</td>\n",
       "      <td>-92.7</td>\n",
       "      <td>511.0</td>\n",
       "      <td>ADMIRAL HORNBLOWER</td>\n",
       "      <td>NaN</td>\n",
       "      <td>WSQ7555</td>\n",
       "      <td>1012.0</td>\n",
       "      <td>under way using engine</td>\n",
       "      <td>43.04</td>\n",
       "      <td>12.3</td>\n",
       "      <td>NaN</td>\n",
       "      <td>NaN</td>\n",
       "    </tr>\n",
       "    <tr>\n",
       "      <th>2</th>\n",
       "      <td>345066014</td>\n",
       "      <td>2017-07-01T00:00:12</td>\n",
       "      <td>32.67881</td>\n",
       "      <td>-117.12578</td>\n",
       "      <td>0.1</td>\n",
       "      <td>-85.4</td>\n",
       "      <td>511.0</td>\n",
       "      <td>NaN</td>\n",
       "      <td>NaN</td>\n",
       "      <td>NaN</td>\n",
       "      <td>NaN</td>\n",
       "      <td>undefined</td>\n",
       "      <td>NaN</td>\n",
       "      <td>NaN</td>\n",
       "      <td>NaN</td>\n",
       "      <td>NaN</td>\n",
       "    </tr>\n",
       "    <tr>\n",
       "      <th>3</th>\n",
       "      <td>338107334</td>\n",
       "      <td>2017-07-01T00:00:17</td>\n",
       "      <td>32.74433</td>\n",
       "      <td>-118.26710</td>\n",
       "      <td>18.0</td>\n",
       "      <td>-109.2</td>\n",
       "      <td>511.0</td>\n",
       "      <td>NaN</td>\n",
       "      <td>NaN</td>\n",
       "      <td>NaN</td>\n",
       "      <td>NaN</td>\n",
       "      <td>NaN</td>\n",
       "      <td>NaN</td>\n",
       "      <td>NaN</td>\n",
       "      <td>NaN</td>\n",
       "      <td>NaN</td>\n",
       "    </tr>\n",
       "    <tr>\n",
       "      <th>4</th>\n",
       "      <td>338181008</td>\n",
       "      <td>2017-07-01T00:00:54</td>\n",
       "      <td>33.71416</td>\n",
       "      <td>-118.06256</td>\n",
       "      <td>0.0</td>\n",
       "      <td>-157.6</td>\n",
       "      <td>511.0</td>\n",
       "      <td>JANICE O</td>\n",
       "      <td>NaN</td>\n",
       "      <td>NaN</td>\n",
       "      <td>1019.0</td>\n",
       "      <td>NaN</td>\n",
       "      <td>15.18</td>\n",
       "      <td>NaN</td>\n",
       "      <td>NaN</td>\n",
       "      <td>NaN</td>\n",
       "    </tr>\n",
       "  </tbody>\n",
       "</table>\n",
       "</div>"
      ],
      "text/plain": [
       "        MMSI         BaseDateTime       LAT        LON   SOG    COG  Heading  \\\n",
       "0  367302530  2017-07-01T00:00:05  33.73642 -118.26988   0.0  -49.6    511.0   \n",
       "1  366970120  2017-07-01T00:00:05  32.69319 -117.15330  10.6  -92.7    511.0   \n",
       "2  345066014  2017-07-01T00:00:12  32.67881 -117.12578   0.1  -85.4    511.0   \n",
       "3  338107334  2017-07-01T00:00:17  32.74433 -118.26710  18.0 -109.2    511.0   \n",
       "4  338181008  2017-07-01T00:00:54  33.71416 -118.06256   0.0 -157.6    511.0   \n",
       "\n",
       "           VesselName  IMO CallSign  VesselType                  Status  \\\n",
       "0                 NaN  NaN      NaN         NaN  under way using engine   \n",
       "1  ADMIRAL HORNBLOWER  NaN  WSQ7555      1012.0  under way using engine   \n",
       "2                 NaN  NaN      NaN         NaN               undefined   \n",
       "3                 NaN  NaN      NaN         NaN                     NaN   \n",
       "4            JANICE O  NaN      NaN      1019.0                     NaN   \n",
       "\n",
       "   Length  Width  Draft  Cargo  \n",
       "0     NaN    NaN    NaN    NaN  \n",
       "1   43.04   12.3    NaN    NaN  \n",
       "2     NaN    NaN    NaN    NaN  \n",
       "3     NaN    NaN    NaN    NaN  \n",
       "4   15.18    NaN    NaN    NaN  "
      ]
     },
     "execution_count": 8,
     "metadata": {},
     "output_type": "execute_result"
    }
   ],
   "source": [
    "data1month.head()"
   ]
  },
  {
   "cell_type": "code",
   "execution_count": 9,
   "metadata": {
    "collapsed": false
   },
   "outputs": [
    {
     "name": "stdout",
     "output_type": "stream",
     "text": [
      "out of 12776834 total records...\n",
      "MMSI has 2836 unique values (0.0%) and 0 null values (0.0%)\n",
      "BaseDateTime has 2646075 unique values (20.7%) and 0 null values (0.0%)\n",
      "LAT has 936581 unique values (7.3%) and 0 null values (0.0%)\n",
      "LON has 568103 unique values (4.4%) and 0 null values (0.0%)\n",
      "SOG has 618 unique values (0.0%) and 0 null values (0.0%)\n",
      "COG has 3603 unique values (0.0%) and 0 null values (0.0%)\n",
      "Heading has 364 unique values (0.0%) and 0 null values (0.0%)\n",
      "VesselName has 2492 unique values (0.0%) and 765499 null values (6.0%)\n",
      "IMO has 1120 unique values (0.0%) and 8122851 null values (63.6%)\n",
      "CallSign has 1906 unique values (0.0%) and 3250347 null values (25.4%)\n",
      "VesselType has 39 unique values (0.0%) and 1390742 null values (10.9%)\n",
      "Status has 14 unique values (0.0%) and 4594802 null values (36.0%)\n",
      "Length has 993 unique values (0.0%) and 2683681 null values (21.0%)\n",
      "Width has 343 unique values (0.0%) and 4866460 null values (38.1%)\n",
      "Draft has 144 unique values (0.0%) and 9031521 null values (70.7%)\n",
      "Cargo has 41 unique values (0.0%) and 8525936 null values (66.7%)\n"
     ]
    }
   ],
   "source": [
    "# check unique and null values\n",
    "print('out of {} total records...'.format(data1month.shape[0]))\n",
    "for col in data1month.columns:\n",
    "    unique_values = len(data1month[col].unique())\n",
    "    pct_unique = unique_values / data1month.shape[0] * 100\n",
    "    null_values = data1month[col].isnull().sum()\n",
    "    pct_null = null_values / data1month.shape[0] * 100\n",
    "    print('{} has {} unique values ({:.1f}%) and {} null values ({:.1f}%)'.format(col, unique_values, pct_unique, \n",
    "                                                                        null_values, pct_null))"
   ]
  },
  {
   "cell_type": "code",
   "execution_count": 10,
   "metadata": {
    "collapsed": false
   },
   "outputs": [
    {
     "data": {
      "text/plain": [
       "1"
      ]
     },
     "execution_count": 10,
     "metadata": {},
     "output_type": "execute_result"
    }
   ],
   "source": [
    "# grouping by MMSI and counting number of unique vessel names yields max of 1\n",
    "# (so we can assume MMSI is proxy for vessel name)\n",
    "data1month.groupby(by='MMSI')['VesselName'].nunique().max()"
   ]
  },
  {
   "cell_type": "markdown",
   "metadata": {},
   "source": [
    "### Optionally subset data down to various smaller sizes\n",
    "- 1 month (July 2017) ~ 12.8M records\n",
    "- 1 day (July 1, 2017) ~ 400k records\n",
    "- 1 hour (July 1, 2017, 6-7pm) ~ 20k records\n",
    "- 10 min (July 1, 2017, 6:00-6:10pm) ~ 3k records"
   ]
  },
  {
   "cell_type": "code",
   "execution_count": 11,
   "metadata": {
    "collapsed": false
   },
   "outputs": [
    {
     "name": "stdout",
     "output_type": "stream",
     "text": [
      "CPU times: user 3.15 s, sys: 171 ms, total: 3.32 s\n",
      "Wall time: 3.3 s\n"
     ]
    }
   ],
   "source": [
    "%%time\n",
    "\n",
    "# convert timestamps to datetime\n",
    "data1month['BaseDateTime'] = pd.to_datetime(data1month['BaseDateTime'])"
   ]
  },
  {
   "cell_type": "code",
   "execution_count": 12,
   "metadata": {
    "collapsed": false
   },
   "outputs": [
    {
     "data": {
      "image/png": "[encoded data removed]",
      "text/plain": [
       "<matplotlib.figure.Figure at 0x16972f748>"
      ]
     },
     "metadata": {},
     "output_type": "display_data"
    }
   ],
   "source": [
    "# plot count of MMSI by day\n",
    "data1month.groupby(pd.Grouper(key='BaseDateTime', freq='D'))['MMSI'].count().plot(kind='bar');"
   ]
  },
  {
   "cell_type": "code",
   "execution_count": 13,
   "metadata": {
    "collapsed": false
   },
   "outputs": [
    {
     "data": {
      "text/plain": [
       "(407845, 16)"
      ]
     },
     "execution_count": 13,
     "metadata": {},
     "output_type": "execute_result"
    }
   ],
   "source": [
    "# subset data to single day\n",
    "data1day = data1month[(data1month['BaseDateTime']>dt.datetime(2017,7,1)) & \n",
    "                      (data1month['BaseDateTime']<dt.datetime(2017,7,2))].copy()\n",
    "\n",
    "data1day.shape"
   ]
  },
  {
   "cell_type": "code",
   "execution_count": 14,
   "metadata": {
    "collapsed": false
   },
   "outputs": [
    {
     "data": {
      "image/png": "[encoded data removed]",
      "text/plain": [
       "<matplotlib.figure.Figure at 0x1111d17f0>"
      ]
     },
     "metadata": {},
     "output_type": "display_data"
    }
   ],
   "source": [
    "# plot count of MMSI in 1 hour intervals\n",
    "data1day.groupby(pd.Grouper(key='BaseDateTime', freq='1h'))['MMSI'].count().plot(kind='bar');"
   ]
  },
  {
   "cell_type": "code",
   "execution_count": 15,
   "metadata": {
    "collapsed": false
   },
   "outputs": [
    {
     "data": {
      "text/plain": [
       "(19352, 16)"
      ]
     },
     "execution_count": 15,
     "metadata": {},
     "output_type": "execute_result"
    }
   ],
   "source": [
    "data1hour = data1day[(data1day['BaseDateTime'] > dt.datetime(2017,7,1,18)) & \n",
    "                     (data1day['BaseDateTime'] < dt.datetime(2017,7,1,19))].copy()\n",
    "\n",
    "data1hour.shape"
   ]
  },
  {
   "cell_type": "code",
   "execution_count": 16,
   "metadata": {
    "collapsed": false
   },
   "outputs": [
    {
     "data": {
      "text/plain": [
       "(3158, 16)"
      ]
     },
     "execution_count": 16,
     "metadata": {},
     "output_type": "execute_result"
    }
   ],
   "source": [
    "data10mins = data1hour[(data1hour['BaseDateTime'] > dt.datetime(2017,7,1,18,0)) & \n",
    "                       (data1hour['BaseDateTime'] < dt.datetime(2017,7,1,18,10))].copy()\n",
    "\n",
    "data10mins.shape"
   ]
  },
  {
   "cell_type": "markdown",
   "metadata": {},
   "source": [
    "# Step 1\n",
    "### Finding Nearby Ships in Time and Space Using SciPy KDTrees\n",
    "\n",
    "Detailed approach:\n",
    "\n",
    "1. convert BaseDateTime to timedelta in seconds from earliest timestamp in data\n",
    "2. convert LAT to delta from min LAT and convert to nautical miles from min LAT\n",
    "3. convert LON to delta from min LON and convert to nautical miles from min LON (assume LAT is max abs LAT from data)\n",
    "4. normalize timedeltas by dividing by 120 seconds (or different timedelta threshold if desired)\n",
    "5. normalize nautical miles from min LAT/LON by dividing by 4 n.m. (or different distance threshold if desired)\n",
    "6. construct KDTree from normalized distance data\n",
    "7. query KDTree for pairs of points within a distance of 1 unit (normalized time/LAT/LON distances)\n",
    "\n",
    "Info on converting LAT/LON to nautical miles:\n",
    "https://astronavigationdemystified.com/the-relationships-between-longitude-and-latitude-and-the-nautical-mile/\n",
    "\n",
    "Resource to check distance between points by LON/LAT:\n",
    "https://www.nhc.noaa.gov/gccalc.shtml"
   ]
  },
  {
   "cell_type": "code",
   "execution_count": 17,
   "metadata": {
    "collapsed": true
   },
   "outputs": [],
   "source": [
    "from scipy.spatial import cKDTree"
   ]
  },
  {
   "cell_type": "code",
   "execution_count": 18,
   "metadata": {
    "collapsed": true
   },
   "outputs": [],
   "source": [
    "data = data1day.reset_index(drop=True).copy()"
   ]
  },
  {
   "cell_type": "code",
   "execution_count": 19,
   "metadata": {
    "collapsed": false
   },
   "outputs": [
    {
     "data": {
      "text/plain": [
       "(407845, 16)"
      ]
     },
     "execution_count": 19,
     "metadata": {},
     "output_type": "execute_result"
    }
   ],
   "source": [
    "data.shape"
   ]
  },
  {
   "cell_type": "code",
   "execution_count": 20,
   "metadata": {
    "collapsed": false
   },
   "outputs": [
    {
     "data": {
      "text/html": [
       "<div>\n",
       "<table border=\"1\" class=\"dataframe\">\n",
       "  <thead>\n",
       "    <tr style=\"text-align: right;\">\n",
       "      <th></th>\n",
       "      <th>MMSI</th>\n",
       "      <th>BaseDateTime</th>\n",
       "      <th>LAT</th>\n",
       "      <th>LON</th>\n",
       "      <th>SOG</th>\n",
       "      <th>COG</th>\n",
       "      <th>Heading</th>\n",
       "      <th>VesselName</th>\n",
       "      <th>IMO</th>\n",
       "      <th>CallSign</th>\n",
       "      <th>VesselType</th>\n",
       "      <th>Status</th>\n",
       "      <th>Length</th>\n",
       "      <th>Width</th>\n",
       "      <th>Draft</th>\n",
       "      <th>Cargo</th>\n",
       "    </tr>\n",
       "  </thead>\n",
       "  <tbody>\n",
       "    <tr>\n",
       "      <th>0</th>\n",
       "      <td>367302530</td>\n",
       "      <td>2017-07-01 00:00:05</td>\n",
       "      <td>33.73642</td>\n",
       "      <td>-118.26988</td>\n",
       "      <td>0.0</td>\n",
       "      <td>-49.6</td>\n",
       "      <td>511.0</td>\n",
       "      <td>NaN</td>\n",
       "      <td>NaN</td>\n",
       "      <td>NaN</td>\n",
       "      <td>NaN</td>\n",
       "      <td>under way using engine</td>\n",
       "      <td>NaN</td>\n",
       "      <td>NaN</td>\n",
       "      <td>NaN</td>\n",
       "      <td>NaN</td>\n",
       "    </tr>\n",
       "    <tr>\n",
       "      <th>1</th>\n",
       "      <td>366970120</td>\n",
       "      <td>2017-07-01 00:00:05</td>\n",
       "      <td>32.69319</td>\n",
       "      <td>-117.15330</td>\n",
       "      <td>10.6</td>\n",
       "      <td>-92.7</td>\n",
       "      <td>511.0</td>\n",
       "      <td>ADMIRAL HORNBLOWER</td>\n",
       "      <td>NaN</td>\n",
       "      <td>WSQ7555</td>\n",
       "      <td>1012.0</td>\n",
       "      <td>under way using engine</td>\n",
       "      <td>43.04</td>\n",
       "      <td>12.3</td>\n",
       "      <td>NaN</td>\n",
       "      <td>NaN</td>\n",
       "    </tr>\n",
       "  </tbody>\n",
       "</table>\n",
       "</div>"
      ],
      "text/plain": [
       "        MMSI        BaseDateTime       LAT        LON   SOG   COG  Heading  \\\n",
       "0  367302530 2017-07-01 00:00:05  33.73642 -118.26988   0.0 -49.6    511.0   \n",
       "1  366970120 2017-07-01 00:00:05  32.69319 -117.15330  10.6 -92.7    511.0   \n",
       "\n",
       "           VesselName  IMO CallSign  VesselType                  Status  \\\n",
       "0                 NaN  NaN      NaN         NaN  under way using engine   \n",
       "1  ADMIRAL HORNBLOWER  NaN  WSQ7555      1012.0  under way using engine   \n",
       "\n",
       "   Length  Width  Draft  Cargo  \n",
       "0     NaN    NaN    NaN    NaN  \n",
       "1   43.04   12.3    NaN    NaN  "
      ]
     },
     "execution_count": 20,
     "metadata": {},
     "output_type": "execute_result"
    }
   ],
   "source": [
    "data.head(2)"
   ]
  },
  {
   "cell_type": "code",
   "execution_count": 21,
   "metadata": {
    "collapsed": false
   },
   "outputs": [
    {
     "data": {
      "text/html": [
       "<div>\n",
       "<table border=\"1\" class=\"dataframe\">\n",
       "  <thead>\n",
       "    <tr style=\"text-align: right;\">\n",
       "      <th></th>\n",
       "      <th>MMSI</th>\n",
       "      <th>BaseDateTime</th>\n",
       "      <th>LAT</th>\n",
       "      <th>LON</th>\n",
       "      <th>SOG</th>\n",
       "      <th>COG</th>\n",
       "    </tr>\n",
       "  </thead>\n",
       "  <tbody>\n",
       "    <tr>\n",
       "      <th>0</th>\n",
       "      <td>367302530</td>\n",
       "      <td>2017-07-01 00:00:05</td>\n",
       "      <td>33.73642</td>\n",
       "      <td>-118.26988</td>\n",
       "      <td>0.0</td>\n",
       "      <td>-49.6</td>\n",
       "    </tr>\n",
       "    <tr>\n",
       "      <th>1</th>\n",
       "      <td>366970120</td>\n",
       "      <td>2017-07-01 00:00:05</td>\n",
       "      <td>32.69319</td>\n",
       "      <td>-117.15330</td>\n",
       "      <td>10.6</td>\n",
       "      <td>-92.7</td>\n",
       "    </tr>\n",
       "  </tbody>\n",
       "</table>\n",
       "</div>"
      ],
      "text/plain": [
       "        MMSI        BaseDateTime       LAT        LON   SOG   COG\n",
       "0  367302530 2017-07-01 00:00:05  33.73642 -118.26988   0.0 -49.6\n",
       "1  366970120 2017-07-01 00:00:05  32.69319 -117.15330  10.6 -92.7"
      ]
     },
     "execution_count": 21,
     "metadata": {},
     "output_type": "execute_result"
    }
   ],
   "source": [
    "# create the dataframe we will used to normalize data and perform analysis\n",
    "kdt_df = data[['MMSI','BaseDateTime','LAT','LON','SOG','COG']].copy()\n",
    "kdt_df.head(2)"
   ]
  },
  {
   "cell_type": "code",
   "execution_count": 22,
   "metadata": {
    "collapsed": false
   },
   "outputs": [
    {
     "data": {
      "text/plain": [
       "(Timestamp('2017-07-01 00:00:01'), Timestamp('2017-07-01 23:59:59'))"
      ]
     },
     "execution_count": 22,
     "metadata": {},
     "output_type": "execute_result"
    }
   ],
   "source": [
    "# convert time to seconds since earliest timestamp\n",
    "min_time_from_data = kdt_df['BaseDateTime'].min()\n",
    "max_time_from_data = kdt_df['BaseDateTime'].max()\n",
    "\n",
    "min_time_from_data, max_time_from_data"
   ]
  },
  {
   "cell_type": "code",
   "execution_count": 23,
   "metadata": {
    "collapsed": true
   },
   "outputs": [],
   "source": [
    "# function to normalize time to a unitless distance metric based on a time threshold\n",
    "def convert_ts_to_time_dist(df_row, min_time=min_time_from_data, time_threshold=pd.Timedelta('120 s')):\n",
    "    '''function to convert timestamp to timedelta based on min_time'''\n",
    "    return (df_row['BaseDateTime'] - min_time) / time_threshold"
   ]
  },
  {
   "cell_type": "code",
   "execution_count": 24,
   "metadata": {
    "collapsed": false
   },
   "outputs": [
    {
     "name": "stdout",
     "output_type": "stream",
     "text": [
      "CPU times: user 46.5 s, sys: 164 ms, total: 46.6 s\n",
      "Wall time: 46.7 s\n"
     ]
    }
   ],
   "source": [
    "%%time\n",
    "\n",
    "kdt_df['time_norm'] = kdt_df.apply(convert_ts_to_time_dist, axis=1)"
   ]
  },
  {
   "cell_type": "code",
   "execution_count": 25,
   "metadata": {
    "collapsed": false,
    "scrolled": false
   },
   "outputs": [
    {
     "data": {
      "text/html": [
       "<div>\n",
       "<table border=\"1\" class=\"dataframe\">\n",
       "  <thead>\n",
       "    <tr style=\"text-align: right;\">\n",
       "      <th></th>\n",
       "      <th>MMSI</th>\n",
       "      <th>BaseDateTime</th>\n",
       "      <th>LAT</th>\n",
       "      <th>LON</th>\n",
       "      <th>SOG</th>\n",
       "      <th>COG</th>\n",
       "      <th>time_norm</th>\n",
       "    </tr>\n",
       "  </thead>\n",
       "  <tbody>\n",
       "    <tr>\n",
       "      <th>0</th>\n",
       "      <td>367302530</td>\n",
       "      <td>2017-07-01 00:00:05</td>\n",
       "      <td>33.73642</td>\n",
       "      <td>-118.26988</td>\n",
       "      <td>0.0</td>\n",
       "      <td>-49.6</td>\n",
       "      <td>0.033333</td>\n",
       "    </tr>\n",
       "    <tr>\n",
       "      <th>1</th>\n",
       "      <td>366970120</td>\n",
       "      <td>2017-07-01 00:00:05</td>\n",
       "      <td>32.69319</td>\n",
       "      <td>-117.15330</td>\n",
       "      <td>10.6</td>\n",
       "      <td>-92.7</td>\n",
       "      <td>0.033333</td>\n",
       "    </tr>\n",
       "  </tbody>\n",
       "</table>\n",
       "</div>"
      ],
      "text/plain": [
       "        MMSI        BaseDateTime       LAT        LON   SOG   COG  time_norm\n",
       "0  367302530 2017-07-01 00:00:05  33.73642 -118.26988   0.0 -49.6   0.033333\n",
       "1  366970120 2017-07-01 00:00:05  32.69319 -117.15330  10.6 -92.7   0.033333"
      ]
     },
     "execution_count": 25,
     "metadata": {},
     "output_type": "execute_result"
    }
   ],
   "source": [
    "kdt_df.head(2)"
   ]
  },
  {
   "cell_type": "code",
   "execution_count": 26,
   "metadata": {
    "collapsed": false
   },
   "outputs": [
    {
     "data": {
      "text/plain": [
       "(20.53717, 46.70026)"
      ]
     },
     "execution_count": 26,
     "metadata": {},
     "output_type": "execute_result"
    }
   ],
   "source": [
    "# convert LAT to delta from min LAT\n",
    "min_LAT_from_data = kdt_df['LAT'].min()\n",
    "max_LAT_from_data = kdt_df['LAT'].max()\n",
    "min_LAT_from_data, max_LAT_from_data"
   ]
  },
  {
   "cell_type": "code",
   "execution_count": 27,
   "metadata": {
    "collapsed": true
   },
   "outputs": [],
   "source": [
    "# function to normalize LAT to unitless distance metric \n",
    "nm_for_1_degree_diff_in_LAT = 60\n",
    "\n",
    "def convert_LAT_to_nm_dist(df_row, min_LAT=min_LAT_from_data, nm_dist_threshold=4):\n",
    "    '''function to convert LAT to nautical miles delta'''\n",
    "    return ((df_row['LAT'] - min_LAT) * nm_for_1_degree_diff_in_LAT) / nm_dist_threshold"
   ]
  },
  {
   "cell_type": "code",
   "execution_count": 28,
   "metadata": {
    "collapsed": false
   },
   "outputs": [
    {
     "name": "stdout",
     "output_type": "stream",
     "text": [
      "CPU times: user 33.8 s, sys: 196 ms, total: 34 s\n",
      "Wall time: 34.1 s\n"
     ]
    }
   ],
   "source": [
    "%%time\n",
    "\n",
    "kdt_df['LAT_norm'] = kdt_df.apply(convert_LAT_to_nm_dist, axis=1)"
   ]
  },
  {
   "cell_type": "code",
   "execution_count": 29,
   "metadata": {
    "collapsed": false
   },
   "outputs": [
    {
     "data": {
      "text/html": [
       "<div>\n",
       "<table border=\"1\" class=\"dataframe\">\n",
       "  <thead>\n",
       "    <tr style=\"text-align: right;\">\n",
       "      <th></th>\n",
       "      <th>MMSI</th>\n",
       "      <th>BaseDateTime</th>\n",
       "      <th>LAT</th>\n",
       "      <th>LON</th>\n",
       "      <th>SOG</th>\n",
       "      <th>COG</th>\n",
       "      <th>time_norm</th>\n",
       "      <th>LAT_norm</th>\n",
       "    </tr>\n",
       "  </thead>\n",
       "  <tbody>\n",
       "    <tr>\n",
       "      <th>0</th>\n",
       "      <td>367302530</td>\n",
       "      <td>2017-07-01 00:00:05</td>\n",
       "      <td>33.73642</td>\n",
       "      <td>-118.26988</td>\n",
       "      <td>0.0</td>\n",
       "      <td>-49.6</td>\n",
       "      <td>0.033333</td>\n",
       "      <td>197.98875</td>\n",
       "    </tr>\n",
       "    <tr>\n",
       "      <th>1</th>\n",
       "      <td>366970120</td>\n",
       "      <td>2017-07-01 00:00:05</td>\n",
       "      <td>32.69319</td>\n",
       "      <td>-117.15330</td>\n",
       "      <td>10.6</td>\n",
       "      <td>-92.7</td>\n",
       "      <td>0.033333</td>\n",
       "      <td>182.34030</td>\n",
       "    </tr>\n",
       "  </tbody>\n",
       "</table>\n",
       "</div>"
      ],
      "text/plain": [
       "        MMSI        BaseDateTime       LAT        LON   SOG   COG  time_norm  \\\n",
       "0  367302530 2017-07-01 00:00:05  33.73642 -118.26988   0.0 -49.6   0.033333   \n",
       "1  366970120 2017-07-01 00:00:05  32.69319 -117.15330  10.6 -92.7   0.033333   \n",
       "\n",
       "    LAT_norm  \n",
       "0  197.98875  \n",
       "1  182.34030  "
      ]
     },
     "execution_count": 29,
     "metadata": {},
     "output_type": "execute_result"
    }
   ],
   "source": [
    "kdt_df.head(2)"
   ]
  },
  {
   "cell_type": "code",
   "execution_count": 30,
   "metadata": {
    "collapsed": false
   },
   "outputs": [
    {
     "data": {
      "text/plain": [
       "(-119.99983, 46.70026)"
      ]
     },
     "execution_count": 30,
     "metadata": {},
     "output_type": "execute_result"
    }
   ],
   "source": [
    "# determine distance in nautical miles for 1 degree difference in LON\n",
    "min_LON_from_data = kdt_df['LON'].min()\n",
    "max_abs_LAT_from_data = kdt_df['LAT'].abs().max()\n",
    "min_LON_from_data, max_abs_LAT_from_data"
   ]
  },
  {
   "cell_type": "code",
   "execution_count": 31,
   "metadata": {
    "collapsed": false
   },
   "outputs": [],
   "source": [
    "# function to normalize LON to unitless distance metric\n",
    "nm_for_1_degree_diff_in_LON = math.cos(max_abs_LAT_from_data * math.pi/180) * 60\n",
    "\n",
    "def convert_LON_to_nm_dist(df_row, min_LON=min_LON_from_data, nm_dist_threshold=4):\n",
    "    '''function to convert LON to nautical miles delta'''\n",
    "    return ((df_row['LON'] - min_LON) * nm_for_1_degree_diff_in_LON) / nm_dist_threshold"
   ]
  },
  {
   "cell_type": "code",
   "execution_count": 32,
   "metadata": {
    "collapsed": false
   },
   "outputs": [
    {
     "name": "stdout",
     "output_type": "stream",
     "text": [
      "CPU times: user 33.5 s, sys: 171 ms, total: 33.7 s\n",
      "Wall time: 33.7 s\n"
     ]
    }
   ],
   "source": [
    "%%time\n",
    "\n",
    "kdt_df['LON_norm'] = kdt_df.apply(convert_LON_to_nm_dist, axis=1)"
   ]
  },
  {
   "cell_type": "code",
   "execution_count": 33,
   "metadata": {
    "collapsed": false,
    "scrolled": true
   },
   "outputs": [
    {
     "data": {
      "text/html": [
       "<div>\n",
       "<table border=\"1\" class=\"dataframe\">\n",
       "  <thead>\n",
       "    <tr style=\"text-align: right;\">\n",
       "      <th></th>\n",
       "      <th>MMSI</th>\n",
       "      <th>BaseDateTime</th>\n",
       "      <th>LAT</th>\n",
       "      <th>LON</th>\n",
       "      <th>SOG</th>\n",
       "      <th>COG</th>\n",
       "      <th>time_norm</th>\n",
       "      <th>LAT_norm</th>\n",
       "      <th>LON_norm</th>\n",
       "    </tr>\n",
       "  </thead>\n",
       "  <tbody>\n",
       "    <tr>\n",
       "      <th>0</th>\n",
       "      <td>367302530</td>\n",
       "      <td>2017-07-01 00:00:05</td>\n",
       "      <td>33.73642</td>\n",
       "      <td>-118.26988</td>\n",
       "      <td>0.0</td>\n",
       "      <td>-49.6</td>\n",
       "      <td>0.033333</td>\n",
       "      <td>197.98875</td>\n",
       "      <td>17.796386</td>\n",
       "    </tr>\n",
       "    <tr>\n",
       "      <th>1</th>\n",
       "      <td>366970120</td>\n",
       "      <td>2017-07-01 00:00:05</td>\n",
       "      <td>32.69319</td>\n",
       "      <td>-117.15330</td>\n",
       "      <td>10.6</td>\n",
       "      <td>-92.7</td>\n",
       "      <td>0.033333</td>\n",
       "      <td>182.34030</td>\n",
       "      <td>29.282897</td>\n",
       "    </tr>\n",
       "  </tbody>\n",
       "</table>\n",
       "</div>"
      ],
      "text/plain": [
       "        MMSI        BaseDateTime       LAT        LON   SOG   COG  time_norm  \\\n",
       "0  367302530 2017-07-01 00:00:05  33.73642 -118.26988   0.0 -49.6   0.033333   \n",
       "1  366970120 2017-07-01 00:00:05  32.69319 -117.15330  10.6 -92.7   0.033333   \n",
       "\n",
       "    LAT_norm   LON_norm  \n",
       "0  197.98875  17.796386  \n",
       "1  182.34030  29.282897  "
      ]
     },
     "execution_count": 33,
     "metadata": {},
     "output_type": "execute_result"
    }
   ],
   "source": [
    "kdt_df.head(2)"
   ]
  },
  {
   "cell_type": "code",
   "execution_count": 34,
   "metadata": {
    "collapsed": false
   },
   "outputs": [
    {
     "data": {
      "text/plain": [
       "(407845, 9)"
      ]
     },
     "execution_count": 34,
     "metadata": {},
     "output_type": "execute_result"
    }
   ],
   "source": [
    "kdt_df.shape"
   ]
  },
  {
   "cell_type": "code",
   "execution_count": 35,
   "metadata": {
    "collapsed": true
   },
   "outputs": [],
   "source": [
    "# create kdtree array\n",
    "kdt_arr = kdt_df[['time_norm','LAT_norm','LON_norm']].as_matrix()"
   ]
  },
  {
   "cell_type": "code",
   "execution_count": 36,
   "metadata": {
    "collapsed": true
   },
   "outputs": [],
   "source": [
    "kdt = cKDTree(kdt_arr)"
   ]
  },
  {
   "cell_type": "code",
   "execution_count": 37,
   "metadata": {
    "collapsed": false
   },
   "outputs": [
    {
     "name": "stdout",
     "output_type": "stream",
     "text": [
      "CPU times: user 5.08 s, sys: 1.16 s, total: 6.25 s\n",
      "Wall time: 6.23 s\n"
     ]
    }
   ],
   "source": [
    "%%time\n",
    "\n",
    "near_points = kdt.query_pairs(r=1.0, p=2)"
   ]
  },
  {
   "cell_type": "code",
   "execution_count": 38,
   "metadata": {
    "collapsed": false
   },
   "outputs": [
    {
     "data": {
      "text/plain": [
       "15032386"
      ]
     },
     "execution_count": 38,
     "metadata": {},
     "output_type": "execute_result"
    }
   ],
   "source": [
    "len(near_points)"
   ]
  },
  {
   "cell_type": "code",
   "execution_count": 39,
   "metadata": {
    "collapsed": false
   },
   "outputs": [
    {
     "data": {
      "text/plain": [
       "(27371, 27857)"
      ]
     },
     "execution_count": 39,
     "metadata": {},
     "output_type": "execute_result"
    }
   ],
   "source": [
    "list(near_points)[0]"
   ]
  },
  {
   "cell_type": "markdown",
   "metadata": {},
   "source": [
    "### Note on distance\n",
    "A Minkowski distance of order p=2 is used here, which corresponds to Euclidean distance (see https://en.wikipedia.org/wiki/Minkowski_distance).  This means that points that are on the threshold of being close in time (i.e. timestamps nearing 120 seconds apart) are considered nearby only if they are very close in terms of position.  Similarly, points that are on the threshold of being considered close by position (i.e. nearly 4 nautical miles apart) are considered close only if their timestamps are nearly identical (i.e. very close in terms of time).  Using larger values of p relaxes these conditions.  Using an extremely large value of p would result in ships nearly 4 nautical miles apart at timestamps nearly 120 seconds apart being considered close."
   ]
  },
  {
   "cell_type": "markdown",
   "metadata": {},
   "source": [
    "### Check some random points to validate results"
   ]
  },
  {
   "cell_type": "code",
   "execution_count": 40,
   "metadata": {
    "collapsed": true
   },
   "outputs": [],
   "source": [
    "# distance formula\n",
    "import pyproj\n",
    "\n",
    "def get_distance(p1, p2, geod):\n",
    "    '''see https://jswhit.github.io/pyproj/pyproj.Geod-class.html#inv'''\n",
    "    angle1,angle2,distance = geod.inv(p1.x, p1.y, p2.x, p2.y)\n",
    "    return distance # in meters"
   ]
  },
  {
   "cell_type": "code",
   "execution_count": 41,
   "metadata": {
    "collapsed": true
   },
   "outputs": [],
   "source": [
    "def check_points(pair, print_data=False):\n",
    "    '''function to calculate timestamp difference and position distance for a pair of ships'''\n",
    "    p1 = data.loc[pair[0],:].copy()\n",
    "    p2 = data.loc[pair[1],:].copy()\n",
    "    \n",
    "    if print_data:\n",
    "        print(pd.concat([pd.DataFrame(p1),pd.DataFrame(p2)],axis=1))\n",
    "    \n",
    "    # create Shapely Point from LON/LAT\n",
    "    p1['geometry'] = Point((float(p1.LON), float(p1.LAT)))\n",
    "    p2['geometry'] = Point((float(p2.LON), float(p2.LAT)))\n",
    "    \n",
    "    # calculate timestamp difference\n",
    "    time_diff = (p1['BaseDateTime'] - p2['BaseDateTime']) / pd.Timedelta('1 s')\n",
    "    \n",
    "    # calculate position difference\n",
    "    m_per_nautical_mile = 1852\n",
    "    distance = get_distance(p1['geometry'], p2['geometry'], geod=pyproj.Geod(ellps='WGS84')) / m_per_nautical_mile\n",
    "    return (time_diff, round(distance,2))"
   ]
  },
  {
   "cell_type": "code",
   "execution_count": 42,
   "metadata": {
    "collapsed": false
   },
   "outputs": [
    {
     "name": "stdout",
     "output_type": "stream",
     "text": [
      "                              326441                  329378\n",
      "MMSI                       368850000               367760290\n",
      "BaseDateTime     2017-07-01 19:39:23     2017-07-01 19:40:18\n",
      "LAT                           33.744                 33.7708\n",
      "LON                         -118.227                -118.212\n",
      "SOG                              0.1                       0\n",
      "COG                              3.3                    -155\n",
      "Heading                          511                     246\n",
      "VesselName          CAPE INSCRIPTION             FIREBOAT 15\n",
      "IMO                       IMO7390105                     NaN\n",
      "CallSign                        WSCJ                 WDJ2641\n",
      "VesselType                      1004                    1005\n",
      "Status        under way using engine  under way using engine\n",
      "Length                        208.72                     NaN\n",
      "Width                          31.09                     NaN\n",
      "Draft                            9.8                     NaN\n",
      "Cargo                             70                     NaN\n",
      "(-55.0, 1.77)\n",
      "                               66886                68289\n",
      "MMSI                       367380940            367488450\n",
      "BaseDateTime     2017-07-01 03:52:04  2017-07-01 03:53:20\n",
      "LAT                          33.3918              33.3528\n",
      "LON                         -118.367             -118.328\n",
      "SOG                              0.4                  0.3\n",
      "COG                            -67.3                 40.4\n",
      "Heading                          511                  511\n",
      "VesselName            THE SMALL CREW              THE ONE\n",
      "IMO                              NaN                  NaN\n",
      "CallSign                     WDH3042              WDF7817\n",
      "VesselType                      1019                 1019\n",
      "Status        under way using engine                  NaN\n",
      "Length                         18.87                12.83\n",
      "Width                            5.1                  4.1\n",
      "Draft                            NaN                  NaN\n",
      "Cargo                             37                  NaN\n",
      "(-76.0, 3.05)\n",
      "                               60014                60443\n",
      "MMSI                       366988970            367765170\n",
      "BaseDateTime     2017-07-01 03:36:22  2017-07-01 03:35:33\n",
      "LAT                          33.7671              33.7311\n",
      "LON                          -118.22             -118.261\n",
      "SOG                                0                    0\n",
      "COG                                0               -153.7\n",
      "Heading                          511                  248\n",
      "VesselName                   LARCONA          EARL W REDD\n",
      "IMO                              NaN           IMO9824899\n",
      "CallSign                     WDC2171              WDJ3139\n",
      "VesselType                      1025                 1025\n",
      "Status        under way using engine               moored\n",
      "Length                          21.7                  NaN\n",
      "Width                            7.9                  NaN\n",
      "Draft                            NaN                  NaN\n",
      "Cargo                             31                  NaN\n",
      "(49.0, 2.95)\n",
      "                           381300               381845\n",
      "MMSI                    366857070            338096778\n",
      "BaseDateTime  2017-07-01 22:42:11  2017-07-01 22:42:37\n",
      "LAT                        33.763              33.7596\n",
      "LON                      -118.199             -118.126\n",
      "SOG                             0                    0\n",
      "COG                        -187.4               -141.1\n",
      "Heading                       511                  511\n",
      "VesselName        JET CAT EXPRESS              ODYSSEY\n",
      "IMO                    IMO9367475                  NaN\n",
      "CallSign                  WDA8695                  NaN\n",
      "VesselType                   1012                 1019\n",
      "Status                  undefined                  NaN\n",
      "Length                      44.27                16.09\n",
      "Width                       10.45                  4.4\n",
      "Draft                         NaN                  NaN\n",
      "Cargo                          40                  NaN\n",
      "(-26.0, 3.67)\n",
      "                              183998                  184239\n",
      "MMSI                       367369720               368850000\n",
      "BaseDateTime     2017-07-01 11:33:10     2017-07-01 11:34:02\n",
      "LAT                          33.7567                 33.7439\n",
      "LON                         -118.262                -118.227\n",
      "SOG                              3.8                       0\n",
      "COG                           -188.3                   -61.4\n",
      "Heading                          210                     511\n",
      "VesselName                 ALTA JUNE        CAPE INSCRIPTION\n",
      "IMO                       IMO9552290              IMO7390105\n",
      "CallSign                     WDE5645                    WSCJ\n",
      "VesselType                      1025                    1004\n",
      "Status        under way using engine  under way using engine\n",
      "Length                          23.8                  208.72\n",
      "Width                           10.4                   31.09\n",
      "Draft                            NaN                     9.8\n",
      "Cargo                             31                      70\n",
      "(-52.0, 1.91)\n",
      "                              295614               297167\n",
      "MMSI                       367175860            353428000\n",
      "BaseDateTime     2017-07-01 18:14:17  2017-07-01 18:15:15\n",
      "LAT                          33.7293              33.7518\n",
      "LON                         -118.275             -118.241\n",
      "SOG                                0                    0\n",
      "COG                           -134.4                166.8\n",
      "Heading                          127                  249\n",
      "VesselName              INDEPENDENCE           MSC LAUREN\n",
      "IMO                       IMO9369239           IMO9467407\n",
      "CallSign                     WDD6659                3FZR5\n",
      "VesselType                      1025                 1004\n",
      "Status        under way using engine               moored\n",
      "Length                          23.8               365.85\n",
      "Width                          10.36                 48.4\n",
      "Draft                            4.6                 15.5\n",
      "Cargo                             52                  NaN\n",
      "(-58.0, 2.17)\n",
      "                           321738               323339\n",
      "MMSI                    367785220            236000990\n",
      "BaseDateTime  2017-07-01 19:37:32  2017-07-01 19:36:55\n",
      "LAT                       32.7198                32.71\n",
      "LON                      -117.227             -117.234\n",
      "SOG                           0.1                    0\n",
      "COG                         -49.6                    0\n",
      "Heading                       511                  511\n",
      "VesselName            ARCTIC TERN                  NaN\n",
      "IMO                           NaN                  NaN\n",
      "CallSign                  WDJ5188                  NaN\n",
      "VesselType                    NaN                  NaN\n",
      "Status                        NaN                  NaN\n",
      "Length                        NaN                  NaN\n",
      "Width                         NaN                  NaN\n",
      "Draft                         NaN                  NaN\n",
      "Cargo                         NaN                  NaN\n",
      "(37.0, 0.67)\n",
      "                               4986                    12538\n",
      "MMSI                       366970120               368437000\n",
      "BaseDateTime     2017-07-01 00:36:56     2017-07-01 00:35:56\n",
      "LAT                          32.7152                 32.7233\n",
      "LON                         -117.177                -117.227\n",
      "SOG                              4.8                       0\n",
      "COG                           -139.8                   -49.6\n",
      "Heading                          511                     511\n",
      "VesselName        ADMIRAL HORNBLOWER               TOPGUN 80\n",
      "IMO                              NaN                     NaN\n",
      "CallSign                     WSQ7555                 WDG6294\n",
      "VesselType                      1012                    1012\n",
      "Status        under way using engine  under way using engine\n",
      "Length                         43.04                   23.41\n",
      "Width                           12.3                     6.1\n",
      "Draft                            NaN                     NaN\n",
      "Cargo                            NaN                     NaN\n",
      "(60.0, 2.59)\n",
      "                           379549                  381026\n",
      "MMSI                    338184922               378111833\n",
      "BaseDateTime  2017-07-01 22:30:48     2017-07-01 22:31:47\n",
      "LAT                       32.7263                 32.7101\n",
      "LON                      -117.189                -117.233\n",
      "SOG                           0.1                       0\n",
      "COG                          -102                   172.5\n",
      "Heading                       511                     164\n",
      "VesselName             SEA TOW 10             EL MIRAR II\n",
      "IMO                           NaN                     NaN\n",
      "CallSign                      NaN                 ZJL8542\n",
      "VesselType                   1025                      37\n",
      "Status                        NaN  under way using engine\n",
      "Length                       8.38                     NaN\n",
      "Width                         NaN                     NaN\n",
      "Draft                         NaN                     NaN\n",
      "Cargo                         NaN                      37\n",
      "(-59.0, 2.46)\n",
      "                              366083               373580\n",
      "MMSI                       366979360            636013699\n",
      "BaseDateTime     2017-07-01 21:55:38  2017-07-01 21:57:19\n",
      "LAT                          33.7481              33.7542\n",
      "LON                         -118.271             -118.275\n",
      "SOG                              1.9                    0\n",
      "COG                           -116.3                -99.6\n",
      "Heading                          511                  330\n",
      "VesselName               ARTHUR FOSS          YM ETERNITY\n",
      "IMO                       IMO8219011           IMO9353292\n",
      "CallSign                     WRB5693                A8OS6\n",
      "VesselType                      1025                 1004\n",
      "Status        under way using engine               moored\n",
      "Length                         32.31                268.8\n",
      "Width                           11.6                 32.2\n",
      "Draft                            3.6                 12.5\n",
      "Cargo                             52                   70\n",
      "(-101.0, 0.43)\n"
     ]
    }
   ],
   "source": [
    "for pair in random.sample(near_points,10):\n",
    "    print(check_points(pair,print_data=True))"
   ]
  },
  {
   "cell_type": "markdown",
   "metadata": {},
   "source": [
    "# Step 2\n",
    "### Find potential collisions"
   ]
  },
  {
   "cell_type": "code",
   "execution_count": 43,
   "metadata": {
    "collapsed": false
   },
   "outputs": [],
   "source": [
    "data_mat = kdt_df.as_matrix()"
   ]
  },
  {
   "cell_type": "code",
   "execution_count": 44,
   "metadata": {
    "collapsed": false,
    "scrolled": true
   },
   "outputs": [
    {
     "data": {
      "text/html": [
       "<div>\n",
       "<table border=\"1\" class=\"dataframe\">\n",
       "  <thead>\n",
       "    <tr style=\"text-align: right;\">\n",
       "      <th></th>\n",
       "      <th>MMSI</th>\n",
       "      <th>BaseDateTime</th>\n",
       "      <th>LAT</th>\n",
       "      <th>LON</th>\n",
       "      <th>SOG</th>\n",
       "      <th>COG</th>\n",
       "      <th>time_norm</th>\n",
       "      <th>LAT_norm</th>\n",
       "      <th>LON_norm</th>\n",
       "    </tr>\n",
       "  </thead>\n",
       "  <tbody>\n",
       "    <tr>\n",
       "      <th>0</th>\n",
       "      <td>367302530</td>\n",
       "      <td>2017-07-01 00:00:05</td>\n",
       "      <td>33.73642</td>\n",
       "      <td>-118.26988</td>\n",
       "      <td>0.0</td>\n",
       "      <td>-49.6</td>\n",
       "      <td>0.033333</td>\n",
       "      <td>197.98875</td>\n",
       "      <td>17.796386</td>\n",
       "    </tr>\n",
       "    <tr>\n",
       "      <th>1</th>\n",
       "      <td>366970120</td>\n",
       "      <td>2017-07-01 00:00:05</td>\n",
       "      <td>32.69319</td>\n",
       "      <td>-117.15330</td>\n",
       "      <td>10.6</td>\n",
       "      <td>-92.7</td>\n",
       "      <td>0.033333</td>\n",
       "      <td>182.34030</td>\n",
       "      <td>29.282897</td>\n",
       "    </tr>\n",
       "    <tr>\n",
       "      <th>2</th>\n",
       "      <td>345066014</td>\n",
       "      <td>2017-07-01 00:00:12</td>\n",
       "      <td>32.67881</td>\n",
       "      <td>-117.12578</td>\n",
       "      <td>0.1</td>\n",
       "      <td>-85.4</td>\n",
       "      <td>0.091667</td>\n",
       "      <td>182.12460</td>\n",
       "      <td>29.566001</td>\n",
       "    </tr>\n",
       "    <tr>\n",
       "      <th>3</th>\n",
       "      <td>338107334</td>\n",
       "      <td>2017-07-01 00:00:17</td>\n",
       "      <td>32.74433</td>\n",
       "      <td>-118.26710</td>\n",
       "      <td>18.0</td>\n",
       "      <td>-109.2</td>\n",
       "      <td>0.133333</td>\n",
       "      <td>183.10740</td>\n",
       "      <td>17.824985</td>\n",
       "    </tr>\n",
       "    <tr>\n",
       "      <th>4</th>\n",
       "      <td>338181008</td>\n",
       "      <td>2017-07-01 00:00:54</td>\n",
       "      <td>33.71416</td>\n",
       "      <td>-118.06256</td>\n",
       "      <td>0.0</td>\n",
       "      <td>-157.6</td>\n",
       "      <td>0.441667</td>\n",
       "      <td>197.65485</td>\n",
       "      <td>19.929134</td>\n",
       "    </tr>\n",
       "  </tbody>\n",
       "</table>\n",
       "</div>"
      ],
      "text/plain": [
       "        MMSI        BaseDateTime       LAT        LON   SOG    COG  time_norm  \\\n",
       "0  367302530 2017-07-01 00:00:05  33.73642 -118.26988   0.0  -49.6   0.033333   \n",
       "1  366970120 2017-07-01 00:00:05  32.69319 -117.15330  10.6  -92.7   0.033333   \n",
       "2  345066014 2017-07-01 00:00:12  32.67881 -117.12578   0.1  -85.4   0.091667   \n",
       "3  338107334 2017-07-01 00:00:17  32.74433 -118.26710  18.0 -109.2   0.133333   \n",
       "4  338181008 2017-07-01 00:00:54  33.71416 -118.06256   0.0 -157.6   0.441667   \n",
       "\n",
       "    LAT_norm   LON_norm  \n",
       "0  197.98875  17.796386  \n",
       "1  182.34030  29.282897  \n",
       "2  182.12460  29.566001  \n",
       "3  183.10740  17.824985  \n",
       "4  197.65485  19.929134  "
      ]
     },
     "execution_count": 44,
     "metadata": {},
     "output_type": "execute_result"
    }
   ],
   "source": [
    "kdt_df.head()"
   ]
  },
  {
   "cell_type": "code",
   "execution_count": 45,
   "metadata": {
    "collapsed": false
   },
   "outputs": [
    {
     "data": {
      "text/plain": [
       "array([367302530, Timestamp('2017-07-01 00:00:05'), 33.73642, -118.26988,\n",
       "       0.0, -49.6, 0.03333333333333333, 197.98875000000004,\n",
       "       17.79638619639241], dtype=object)"
      ]
     },
     "execution_count": 45,
     "metadata": {},
     "output_type": "execute_result"
    }
   ],
   "source": [
    "data_mat[0,:]"
   ]
  },
  {
   "cell_type": "code",
   "execution_count": 46,
   "metadata": {
    "collapsed": false
   },
   "outputs": [
    {
     "data": {
      "text/plain": [
       "(407845, 9)"
      ]
     },
     "execution_count": 46,
     "metadata": {},
     "output_type": "execute_result"
    }
   ],
   "source": [
    "data_mat.shape"
   ]
  },
  {
   "cell_type": "code",
   "execution_count": 47,
   "metadata": {
    "collapsed": true
   },
   "outputs": [],
   "source": [
    "def is_potential_collision(pair, max_time_to_collision_threshold=10*60):\n",
    "    '''function to identify whether a pair of ships are currently on a collision course'''\n",
    "    p0, p1 = pair\n",
    "    \n",
    "    # check and stop if same MMSI\n",
    "    if data_mat[p0,0] == data_mat[p1,0]:\n",
    "        return False\n",
    "    \n",
    "    SOG_0 = data_mat[p0,4]\n",
    "    SOG_1 = data_mat[p1,4]\n",
    "    \n",
    "    # check and stop if both SOG values are zero\n",
    "    if SOG_0 + SOG_1 == 0:\n",
    "        return False\n",
    "    \n",
    "    # get data for first point\n",
    "    t_0 = data_mat[p0,1]\n",
    "    LAT_0 = data_mat[p0,2]\n",
    "    LON_0 = data_mat[p0,3]\n",
    "    COG_0 = data_mat[p0,5]\n",
    "    \n",
    "    # calculations for first point\n",
    "    nm_per_LON_0 = math.cos(LAT_0 * math.pi / 180) * 60\n",
    "    loc_0 = np.array([LAT_0, LON_0])\n",
    "    dlat_dt_0 = math.cos(COG_0 * math.pi/180) * (SOG_0/3600) / 60\n",
    "    dlon_dt_0 = math.sin(COG_0 * math.pi/180) * (SOG_0/3600) / nm_per_LON_0\n",
    "    dloc_dt_0 = np.array([dlat_dt_0, dlon_dt_0])\n",
    "\n",
    "    # get data for second point\n",
    "    t_1 = data_mat[p1,1]\n",
    "    LAT_1 = data_mat[p1,2]\n",
    "    LON_1 = data_mat[p1,3]\n",
    "    COG_1 = data_mat[p1,5]\n",
    "    \n",
    "    # calculations for second point\n",
    "    nm_per_LON_1 = math.cos(LAT_1 * math.pi / 180) * 60\n",
    "    loc_1 = np.array([LAT_1, LON_1])\n",
    "    dlat_dt_1 = math.cos(COG_1 * math.pi/180) * (SOG_1/3600) / 60\n",
    "    dlon_dt_1 = math.sin(COG_1 * math.pi/180) * (SOG_1/3600) / nm_per_LON_1\n",
    "    dloc_dt_1 = np.array([dlat_dt_1, dlon_dt_1])\n",
    "\n",
    "    # update location of point with earlier timestamp\n",
    "    t_diff = (t_0 - t_1) / pd.Timedelta('1 s')\n",
    "    \n",
    "    if t_diff < 0:\n",
    "        loc_0 = loc_0 - dloc_dt_0 * t_diff\n",
    "    elif t_diff > 0:\n",
    "        loc_1 = loc_1 + dloc_dt_1 * t_diff\n",
    "        \n",
    "    # solve system of equations (round to nearest second)\n",
    "    # note:  this causes divide by zero error if ships traveling same direction and same speed\n",
    "    t = np.round((loc_0 - loc_1) / (dloc_dt_1 - dloc_dt_0), 0)\n",
    "    \n",
    "    # ships are on a collision course if there is some future time t for which LON/LAT is the same\n",
    "    return (t[0]==t[1] and t[0]>0 and t[0]<max_time_to_collision_threshold)"
   ]
  },
  {
   "cell_type": "code",
   "execution_count": 48,
   "metadata": {
    "collapsed": false
   },
   "outputs": [
    {
     "name": "stderr",
     "output_type": "stream",
     "text": [
      "/Users/joshwilson/anaconda3/lib/python3.6/site-packages/ipykernel/__main__.py:52: RuntimeWarning: divide by zero encountered in true_divide\n",
      "/Users/joshwilson/anaconda3/lib/python3.6/site-packages/ipykernel/__main__.py:52: RuntimeWarning: invalid value encountered in true_divide\n"
     ]
    },
    {
     "name": "stdout",
     "output_type": "stream",
     "text": [
      "CPU times: user 6min 52s, sys: 559 ms, total: 6min 53s\n",
      "Wall time: 7min 11s\n"
     ]
    }
   ],
   "source": [
    "%%time\n",
    "\n",
    "potential_collisions = set()\n",
    "\n",
    "for pair in near_points:\n",
    "    if is_potential_collision(pair):\n",
    "        potential_collisions.add(pair)"
   ]
  },
  {
   "cell_type": "code",
   "execution_count": 49,
   "metadata": {
    "collapsed": false,
    "scrolled": true
   },
   "outputs": [
    {
     "data": {
      "text/plain": [
       "166"
      ]
     },
     "execution_count": 49,
     "metadata": {},
     "output_type": "execute_result"
    }
   ],
   "source": [
    "len(potential_collisions)"
   ]
  },
  {
   "cell_type": "code",
   "execution_count": 50,
   "metadata": {
    "collapsed": false
   },
   "outputs": [
    {
     "data": {
      "text/plain": [
       "[(323008, 324992),\n",
       " (336314, 336385),\n",
       " (306733, 309412),\n",
       " (258177, 266619),\n",
       " (383878, 388084),\n",
       " (303622, 305787),\n",
       " (362906, 366541),\n",
       " (374180, 377056),\n",
       " (289629, 294769),\n",
       " (399357, 401277)]"
      ]
     },
     "execution_count": 50,
     "metadata": {},
     "output_type": "execute_result"
    }
   ],
   "source": [
    "list(potential_collisions)[:10]"
   ]
  },
  {
   "cell_type": "markdown",
   "metadata": {},
   "source": [
    "# Step 3:\n",
    "### Classify potential collisions by type of interaction\n",
    "\n",
    "For difference in COG = (COG of boat 1) - (COG of boat 2), $\\theta_{overtaking} = 90^\\circ$, and $\\theta_{head\\_on} = 20^\\circ$:\n",
    "\n",
    "- overtaking = 90$^\\circ$ angle from behind, or difference in COG in range $\\bigg(-\\cfrac{\\theta_{overtaking}}{2}, +\\cfrac{\\theta_{overtaking}}{2}\\bigg)$\n",
    "\n",
    "- head-on = 20$^\\circ$ angle from front, or difference in COG in range $\\bigg(180^\\circ - \\cfrac{\\theta_{head\\_on}}{2}, 180^\\circ + \\cfrac{\\theta_{head\\_on}}{2}\\bigg)$\n",
    "\n",
    "- crossing (boat 1 in front of boat 2) = difference in COG in range $\\bigg(180^\\circ + \\cfrac{\\theta_{head\\_on}}{2}, 360^\\circ - \\cfrac{\\theta_{overtaking}}{2}\\bigg)$\n",
    "\n",
    "- crossing (boat 2 in front of boat 1) = difference in COG in range $\\bigg(\\cfrac{\\theta_{overtaking}}{2}, 180^\\circ - \\cfrac{\\theta_{head\\_on}}{2}\\bigg)$\n"
   ]
  },
  {
   "cell_type": "code",
   "execution_count": 51,
   "metadata": {
    "collapsed": true
   },
   "outputs": [],
   "source": [
    "def categorize_interaction(pair, theta_overtaking=90, theta_head_on=20, print_data=False):\n",
    "    '''function to classify potential collision based on what appropriate action should be taken'''\n",
    "    p0, p1 = pair\n",
    "    \n",
    "    MMSI_0 = data_mat[p0,0]\n",
    "    MMSI_1 = data_mat[p1,0]\n",
    "    SOG_0 = data_mat[p0,4]\n",
    "    SOG_1 = data_mat[p1,4]\n",
    "    \n",
    "    if SOG_0==0: # MMSI_0 is not moving\n",
    "        return '{} should avoid {}'.format(MMSI_1, MMSI_0)\n",
    "    elif SOG_1==0: # MMSI_1 is not moving\n",
    "        return '{} should avoid {}'.format(MMSI_0, MMSI_1)\n",
    "\n",
    "    COG_0 = data_mat[p0,5] % 360\n",
    "    COG_1 = data_mat[p1,5] % 360\n",
    "    COG_delta = (COG_0 - COG_1) % 360\n",
    "    \n",
    "    if ((COG_delta > 360-theta_overtaking/2) or (COG_delta < theta_overtaking/2)):\n",
    "        if SOG_0 > SOG_1:\n",
    "            return '{} overtaking {}'.format(MMSI_0, MMSI_1)\n",
    "        else:\n",
    "            return '{} overtaking {}'.format(MMSI_1, MMSI_0)\n",
    "    elif ((COG_delta > 180 - theta_head_on/2) and (COG_delta < 180 + theta_head_on/2)):\n",
    "        return 'head-on'\n",
    "    elif ((COG_delta > 180 + theta_head_on/2) and (COG_delta < 360 - theta_overtaking/2)):\n",
    "        return '{} should cross in front of {}'.format(MMSI_0, MMSI_1)\n",
    "    elif ((COG_delta > theta_overtaking/2) and (COG_delta < 180 - theta_head_on/2)):\n",
    "        return '{} should cross in front of {}'.format(MMSI_1, MMSI_0)\n",
    "    else:\n",
    "        return None"
   ]
  },
  {
   "cell_type": "code",
   "execution_count": 52,
   "metadata": {
    "collapsed": false
   },
   "outputs": [],
   "source": [
    "idx0 = []\n",
    "idx1 = []\n",
    "mmsi0 = []\n",
    "mmsi1 = []\n",
    "interactions = []\n",
    "\n",
    "for pair in potential_collisions:\n",
    "    p0, p1 = pair[0], pair[1]\n",
    "    idx0.append(p0)\n",
    "    idx1.append(p1)\n",
    "    mmsi0.append(data_mat[p0,0])\n",
    "    mmsi1.append(data_mat[p1,0])\n",
    "    interactions.append(categorize_interaction(pair))"
   ]
  },
  {
   "cell_type": "code",
   "execution_count": 53,
   "metadata": {
    "collapsed": false
   },
   "outputs": [],
   "source": [
    "collision_interactions_df = pd.DataFrame({'index0':idx0,\n",
    "    'index1':idx1,\n",
    "    'mmsi0':mmsi0,\n",
    "    'mmsi1':mmsi1,\n",
    "    'interaction':interactions\n",
    "})"
   ]
  },
  {
   "cell_type": "code",
   "execution_count": 54,
   "metadata": {
    "collapsed": false
   },
   "outputs": [
    {
     "data": {
      "text/html": [
       "<div>\n",
       "<table border=\"1\" class=\"dataframe\">\n",
       "  <thead>\n",
       "    <tr style=\"text-align: right;\">\n",
       "      <th></th>\n",
       "      <th>index0</th>\n",
       "      <th>index1</th>\n",
       "      <th>interaction</th>\n",
       "      <th>mmsi0</th>\n",
       "      <th>mmsi1</th>\n",
       "    </tr>\n",
       "  </thead>\n",
       "  <tbody>\n",
       "    <tr>\n",
       "      <th>0</th>\n",
       "      <td>323008</td>\n",
       "      <td>324992</td>\n",
       "      <td>367192970 should cross in front of 367765170</td>\n",
       "      <td>367192970</td>\n",
       "      <td>367765170</td>\n",
       "    </tr>\n",
       "    <tr>\n",
       "      <th>1</th>\n",
       "      <td>336314</td>\n",
       "      <td>336385</td>\n",
       "      <td>338184922 should cross in front of 338225922</td>\n",
       "      <td>338184922</td>\n",
       "      <td>338225922</td>\n",
       "    </tr>\n",
       "    <tr>\n",
       "      <th>2</th>\n",
       "      <td>306733</td>\n",
       "      <td>309412</td>\n",
       "      <td>367014480 should avoid 366988970</td>\n",
       "      <td>366988970</td>\n",
       "      <td>367014480</td>\n",
       "    </tr>\n",
       "    <tr>\n",
       "      <th>3</th>\n",
       "      <td>258177</td>\n",
       "      <td>266619</td>\n",
       "      <td>367710340 should avoid 538004632</td>\n",
       "      <td>367710340</td>\n",
       "      <td>538004632</td>\n",
       "    </tr>\n",
       "    <tr>\n",
       "      <th>4</th>\n",
       "      <td>383878</td>\n",
       "      <td>388084</td>\n",
       "      <td>367672630 should cross in front of 338213723</td>\n",
       "      <td>367672630</td>\n",
       "      <td>338213723</td>\n",
       "    </tr>\n",
       "  </tbody>\n",
       "</table>\n",
       "</div>"
      ],
      "text/plain": [
       "   index0  index1                                   interaction      mmsi0  \\\n",
       "0  323008  324992  367192970 should cross in front of 367765170  367192970   \n",
       "1  336314  336385  338184922 should cross in front of 338225922  338184922   \n",
       "2  306733  309412              367014480 should avoid 366988970  366988970   \n",
       "3  258177  266619              367710340 should avoid 538004632  367710340   \n",
       "4  383878  388084  367672630 should cross in front of 338213723  367672630   \n",
       "\n",
       "       mmsi1  \n",
       "0  367765170  \n",
       "1  338225922  \n",
       "2  367014480  \n",
       "3  538004632  \n",
       "4  338213723  "
      ]
     },
     "execution_count": 54,
     "metadata": {},
     "output_type": "execute_result"
    }
   ],
   "source": [
    "collision_interactions_df.head()"
   ]
  },
  {
   "cell_type": "code",
   "execution_count": 55,
   "metadata": {
    "collapsed": false,
    "scrolled": true
   },
   "outputs": [
    {
     "name": "stdout",
     "output_type": "stream",
     "text": [
      "             MMSI        BaseDateTime       LAT        LON  SOG    COG\n",
      "392331  367189840 2017-07-01 23:04:18  33.61155 -117.90108  0.0 -155.0\n",
      "392524  338149432 2017-07-01 23:05:54  33.60747 -117.88653  5.1  -71.4\n",
      "338149432 should avoid 367189840\n",
      "\n",
      "\n",
      "             MMSI        BaseDateTime       LAT        LON  SOG    COG\n",
      "306733  366988970 2017-07-01 18:51:33  33.76709 -118.22045  0.0    0.0\n",
      "309412  367014480 2017-07-01 18:52:42  33.76720 -118.22043  0.1  188.6\n",
      "367014480 should avoid 366988970\n",
      "\n",
      "\n",
      "             MMSI        BaseDateTime       LAT        LON  SOG    COG\n",
      "319439  367793970 2017-07-01 19:15:12  32.70427 -117.16165  0.0 -101.9\n",
      "319838  367360430 2017-07-01 19:15:51  32.70260 -117.16303  9.8   34.3\n",
      "367360430 should avoid 367793970\n",
      "\n",
      "\n"
     ]
    }
   ],
   "source": [
    "# test on some random pairs of potential collisions\n",
    "for pair in random.sample(potential_collisions,3):\n",
    "    print(data.loc[data.index.isin(pair),['MMSI','BaseDateTime','LAT','LON','SOG','COG']])\n",
    "    print(categorize_interaction(pair))\n",
    "    print('\\n')"
   ]
  },
  {
   "cell_type": "code",
   "execution_count": 56,
   "metadata": {
    "collapsed": false
   },
   "outputs": [],
   "source": [
    "import seaborn as sns"
   ]
  },
  {
   "cell_type": "code",
   "execution_count": 57,
   "metadata": {
    "collapsed": true
   },
   "outputs": [],
   "source": [
    "def plot_interaction(pair):\n",
    "    '''function to create static plot of ships on collision course'''\n",
    "    col = data[data.index.isin(pair)].MMSI.values\n",
    "    \n",
    "    sns.pairplot(x_vars='LON', y_vars='LAT', data=data[(data.MMSI.isin(col))], \n",
    "             plot_kws={'alpha':0.5},size=6, hue='MMSI', palette=['red','blue'])\n",
    "    \n",
    "    # set title according to category of interaction\n",
    "    plt.title(categorize_interaction(pair))\n",
    "    plt.show()\n",
    "    return None"
   ]
  },
  {
   "cell_type": "code",
   "execution_count": 58,
   "metadata": {
    "collapsed": false
   },
   "outputs": [
    {
     "data": {
      "image/png": "[encoded data removed]",
      "text/plain": [
       "<matplotlib.figure.Figure at 0x1ea29c0f0>"
      ]
     },
     "metadata": {},
     "output_type": "display_data"
    },
    {
     "data": {
      "image/png": "[encoded data removed]",
      "text/plain": [
       "<matplotlib.figure.Figure at 0x1ea2e3eb8>"
      ]
     },
     "metadata": {},
     "output_type": "display_data"
    },
    {
     "data": {
      "image/png": "[encoded data removed]",
      "text/plain": [
       "<matplotlib.figure.Figure at 0x1ea636160>"
      ]
     },
     "metadata": {},
     "output_type": "display_data"
    }
   ],
   "source": [
    "for pair in random.sample(potential_collisions,3):\n",
    "    plot_interaction(pair)"
   ]
  },
  {
   "cell_type": "code",
   "execution_count": 59,
   "metadata": {
    "collapsed": false
   },
   "outputs": [
    {
     "name": "stdout",
     "output_type": "stream",
     "text": [
      "Full analysis took 10.4 minutes\n"
     ]
    }
   ],
   "source": [
    "analysis_time_in_minutes = round((dt.datetime.now() - start_analysis_time).total_seconds()/60,1)\n",
    "print('Full analysis took {} minutes'.format(analysis_time_in_minutes))"
   ]
  },
  {
   "cell_type": "markdown",
   "metadata": {},
   "source": [
    "# TODO:\n",
    "- remove tugboats\n",
    "- interaction plot (seaborn)\n",
    "- interactive interaction plot with time slider (bokeh)\n",
    "- identify future behavior of potential collision ships to identify potential COLREGS violations"
   ]
  },
  {
   "cell_type": "code",
   "execution_count": null,
   "metadata": {
    "collapsed": true
   },
   "outputs": [],
   "source": []
  }
 ],
 "metadata": {
  "kernelspec": {
   "display_name": "Python 3",
   "language": "python",
   "name": "python3"
  },
  "language_info": {
   "codemirror_mode": {
    "name": "ipython",
    "version": 3
   },
   "file_extension": ".py",
   "mimetype": "text/x-python",
   "name": "python",
   "nbconvert_exporter": "python",
   "pygments_lexer": "ipython3",
   "version": "3.6.0"
  }
 },
 "nbformat": 4,
 "nbformat_minor": 2
}
